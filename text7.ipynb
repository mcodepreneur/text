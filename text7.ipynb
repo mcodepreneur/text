{
 "cells": [
  {
   "cell_type": "code",
   "execution_count": 1,
   "id": "56ef333b-0776-4e7a-9b34-77dc9a9286d7",
   "metadata": {},
   "outputs": [
    {
     "name": "stderr",
     "output_type": "stream",
     "text": [
      "[nltk_data] Downloading package words to C:\\Users\\bills-fish-\n",
      "[nltk_data]     shack\\AppData\\Roaming\\nltk_data...\n",
      "[nltk_data]   Package words is already up-to-date!\n"
     ]
    },
    {
     "data": {
      "text/plain": [
       "True"
      ]
     },
     "execution_count": 1,
     "metadata": {},
     "output_type": "execute_result"
    }
   ],
   "source": [
    "from torch.nn.functional import softmax\n",
    "from transformers import pipeline, GPT2TokenizerFast, GPT2LMHeadModel, AutoTokenizer, BertForMaskedLM\n",
    "from autocorrect import Speller\n",
    "from nltk.stem import WordNetLemmatizer, PorterStemmer\n",
    "from textblob import TextBlob\n",
    "from difflib import SequenceMatcher\n",
    "from string import punctuation\n",
    "from time import time\n",
    "import numpy as np\n",
    "import pandas as pd\n",
    "import torch\n",
    "import nltk\n",
    "nltk.download('words')"
   ]
  },
  {
   "cell_type": "code",
   "execution_count": 2,
   "id": "298822b9-d219-4630-83ce-e1e42d7dac31",
   "metadata": {},
   "outputs": [
    {
     "name": "stderr",
     "output_type": "stream",
     "text": [
      "BertForMaskedLM has generative capabilities, as `prepare_inputs_for_generation` is explicitly overwritten. However, it doesn't directly inherit from `GenerationMixin`. From 👉v4.50👈 onwards, `PreTrainedModel` will NOT inherit from `GenerationMixin`, and this model will lose the ability to call `generate` and other related functions.\n",
      "  - If you're using `trust_remote_code=True`, you can get rid of this warning by loading the model with an auto class. See https://huggingface.co/docs/transformers/en/model_doc/auto#auto-classes\n",
      "  - If you are the owner of the model architecture code, please modify your model class such that it inherits from `GenerationMixin` (after `PreTrainedModel`, otherwise you'll get an exception).\n",
      "  - If you are not the owner of the model architecture class, please contact the model code owner to update it.\n",
      "Some weights of the model checkpoint at google-bert/bert-base-uncased were not used when initializing BertForMaskedLM: ['bert.pooler.dense.bias', 'bert.pooler.dense.weight', 'cls.seq_relationship.bias', 'cls.seq_relationship.weight']\n",
      "- This IS expected if you are initializing BertForMaskedLM from the checkpoint of a model trained on another task or with another architecture (e.g. initializing a BertForSequenceClassification model from a BertForPreTraining model).\n",
      "- This IS NOT expected if you are initializing BertForMaskedLM from the checkpoint of a model that you expect to be exactly identical (initializing a BertForSequenceClassification model from a BertForSequenceClassification model).\n"
     ]
    }
   ],
   "source": [
    "topk = 200  # number of top predicted tokens to retrieve (before excluding non-words) \n",
    "\n",
    "class GPT2:\n",
    "    def __init__(self, model=\"gpt2\"):\n",
    "        self.model     =   GPT2LMHeadModel.from_pretrained(model)\n",
    "        self.tokenizer = GPT2TokenizerFast.from_pretrained(model)\n",
    "        self.model_id  = model\n",
    "    \n",
    "    def get_word_probs(self, sentence, n=topk):  # adapted from raul on stackoverflow\n",
    "        inputs = self.tokenizer.encode(sentence, return_tensors=\"pt\")\n",
    "        with torch.no_grad():\n",
    "            outputs = self.model(inputs)\n",
    "            predictions = outputs[0]\n",
    "        candidates = predictions[0, -1, :]                          # Get the next token candidates.\n",
    "        topk_i = torch.topk(candidates, n).indices.tolist()         # Get the top k next token candidates.\n",
    "        all_probs = torch.nn.functional.softmax(candidates, dim=-1) # Get the token probabilities for all candidates.\n",
    "        topk_probs = all_probs[topk_i].tolist()                     # Filter the token probabilities for the top k candidates.\n",
    "        topk_tokens = [self.tokenizer.decode([idx]).strip()         # Decode the top k candidates back to words.\n",
    "                       for idx in topk_i]\n",
    "        return np.array(list(zip(topk_tokens, topk_probs)))\n",
    "\n",
    "class BERT:\n",
    "    def __init__(self, model=\"google-bert/bert-base-uncased\"):\n",
    "        self.model     = BertForMaskedLM.from_pretrained(model)\n",
    "        self.tokenizer =   AutoTokenizer.from_pretrained(model)\n",
    "        self.model_id  = model\n",
    "        \n",
    "    def get_word_probs(self, prompt, topk=topk):                  # Get topk masked token candidates\n",
    "        inputs = self.tokenizer(prompt, return_tensors=\"pt\")\n",
    "        with torch.no_grad():\n",
    "            logits = self.model(**inputs).logits\n",
    "        mask_index  = (inputs.input_ids == self.tokenizer.mask_token_id)[0].nonzero(as_tuple=True)[0]\n",
    "        mask_logits = logits.squeeze()[mask_index].squeeze()\n",
    "        probs = softmax(mask_logits, dim=-1)\n",
    "        topk_probs, topk_i = torch.topk(probs, topk, dim=-1)\n",
    "        topk_tokens = np.array([self.tokenizer.decode([i]) for i in topk_i])\n",
    "        return np.hstack((topk_tokens.reshape(-1,1), np.array(topk_probs).reshape(-1,1)))\n",
    "\n",
    "M_GPT2 = GPT2(\"gpt2\")\n",
    "M_BERT = BERT(\"google-bert/bert-base-uncased\")"
   ]
  },
  {
   "cell_type": "code",
   "execution_count": 3,
   "id": "28778b24-f3cf-4081-ae8b-234040de1624",
   "metadata": {},
   "outputs": [],
   "source": [
    "def similar(a, b):\n",
    "    common_len = np.ceil((len(a)+len(b))/2)\n",
    "    adjustment = 0\n",
    "    adjustment_table = {1: 0.5, 2: 0.3, 3: 0.2, 4: 0.1}\n",
    "    if common_len in adjustment_table: adjustment = adjustment_table[common_len]*(np.e**(-k*(np.abs(len(a)-len(b))-ap))-bp)\n",
    "    return SequenceMatcher(None, a, b).ratio() + adjustment\n",
    "def rreplace(string, word, new_word):\n",
    "    start = string.rfind(word)\n",
    "    return string[0:start] + new_word + string[start+len(word):]\n",
    "def blob_correct(sentence):\n",
    "    blob = TextBlob(sentence)\n",
    "    return str(blob.correct())\n",
    "    \n",
    "threshold = {\"constant\":    lambda n: base_t,\n",
    "             \"linear\":      lambda n: base_t + (base_t * (n-1)),\n",
    "             \"exponential\": lambda n: base_t * (n**threshold_e),\n",
    "             \"jump-exp\":    lambda n: base_t * (max(n-1,1)**threshold_e),        # jump thresholds start growing after n=2\n",
    "             \"jump-lin\":    lambda n: base_t + (base_t * max(n-2, 0))}\n",
    "lemmatizer  = WordNetLemmatizer()\n",
    "lemma       = lambda x: lemmatizer.lemmatize(x)\n",
    "stemmer     = PorterStemmer()\n",
    "stem        = lambda x: stemmer.stem(x)\n",
    "spell       = Speller()\n",
    "wl          = set(nltk.corpus.words.words())\n",
    "log_map     = lambda e: np.vectorize(lambda x: np.power(np.log(x/0.5)/np.log(2), e))  # specify exponent to return vectorized mapping\n",
    "after_slash = lambda x: x[(x.rfind(\"/\")+1 if x.rfind(\"/\") != -1 else 0):]"
   ]
  },
  {
   "cell_type": "code",
   "execution_count": 4,
   "id": "da60ee3e-f0a4-489f-8318-636abf0fd4ef",
   "metadata": {},
   "outputs": [],
   "source": [
    "def get_probs(string, back_n):\n",
    "    probs = []\n",
    "    places = range(1,back_n+1)\n",
    "    string = string.strip()\n",
    "    words  = string.split()\n",
    "    last_space = string.rfind(' ')\n",
    "    for n in places:\n",
    "        if n > len(words) or len(words) == 1: break\n",
    "        spelled = False\n",
    "        if n > 1:\n",
    "            model  = M_BERT\n",
    "            masked = \"[MASK]\" + words[-n][-1] if not words[-n][-1].isalpha() else \"[MASK]\"\n",
    "            target = words[-n].strip(punctuation)\n",
    "            prompt = ' '.join(words[:-n] + [masked] + words[len(words)-(n-1):])\n",
    "        else:\n",
    "            model  = M_GPT2\n",
    "            string = string.strip()\n",
    "            last_space = string.rfind(' ')\n",
    "            prompt = string[:last_space]\n",
    "        prob = model.get_word_probs(prompt)\n",
    "        if len(prob) > 0:\n",
    "            probs.append(prob)\n",
    "        else:\n",
    "            probs.append(np.array([['dummy', 0]]))\n",
    "    return probs\n",
    "\n",
    "def get_props(target, probs):\n",
    "    probs[:, 1] = probs[:, 1].astype(float) / probs[:, 1].astype(float).sum()\n",
    "    probsp = [(str(word), float(prob), float(similar(target.lower(), word.lower()))) \n",
    "              for word, prob in probs if word in wl]\n",
    "    close_probs = [prob for prob in probsp if prob[2] > 0.5 and prob[1] >= 0.001]\n",
    "    props = sorted([(word, (prob**prob_exp)*log_map(log_exp)(sim)) for word, prob, sim in close_probs], \n",
    "                   reverse=True, key=lambda x: x[1])\n",
    "    return props\n",
    "\n",
    "def make_correction(target, props, probN):\n",
    "    make_correction = False\n",
    "    if len(props) > 0 and float(props[0][1]) > probN:\n",
    "        make_correction = True\n",
    "        irr_t = float(props[0][1]) * relevency_t\n",
    "        for word, score in props: \n",
    "            if float(score) < irr_t: break\n",
    "            elif target.lower() == word.lower() or stem(target.lower()) == word.lower() or lemma(target.lower()) == word.lower():\n",
    "                make_correction = False\n",
    "    return make_correction\n",
    "\n",
    "def correction(string, back_n, pprobs=False):\n",
    "    places = reversed(range(1,back_n+1))\n",
    "    if back_n == 0: places = [1, 3, 2]\n",
    "    string = string.strip()\n",
    "    words  = string.split()\n",
    "    last_space = string.rfind(' ')\n",
    "    for n in places:\n",
    "        if n > len(words) or len(words) == 1: break\n",
    "        spelled = False\n",
    "        if n > 1:\n",
    "            model  = M_BERT\n",
    "            masked = \"[MASK]\" + words[-n][-1] if not words[-n][-1].isalpha() else \"[MASK]\"\n",
    "            target = words[-n].strip(punctuation)\n",
    "            prompt = ' '.join(words[:-n] + [masked] + words[len(words)-(n-1):])\n",
    "            target = words[-n].strip(punctuation)\n",
    "            if target != spell(target):\n",
    "                spelled = True\n",
    "        else:\n",
    "            model  = M_GPT2\n",
    "            string = string.strip()\n",
    "            last_space = string.rfind(' ')\n",
    "            prompt = string[:last_space]\n",
    "            target = string[last_space+1:].strip(punctuation)\n",
    "            target = words[-n].strip(punctuation)\n",
    "            if target != spell(target):\n",
    "                spelled = True\n",
    "        if pprobs:\n",
    "            probs = pprobs[n-1]\n",
    "        else:\n",
    "            probs = model.get_word_probs(prompt) \n",
    "        props = get_props(target, probs)\n",
    "        probN = threshold[threshold_t](n)\n",
    "        if make_correction(target, props, probN): return (n, props[0][0])\n",
    "        if spelled: \n",
    "            target = spell(target)\n",
    "            props = get_props(target, probs)\n",
    "            if len(props) > 0 and float(props[0][1]) > probN and props[0][0] == target:\n",
    "                return (n, target)\n",
    "    return False\n",
    "    \n",
    "def process_correction(string, back_n, pprobs=False):\n",
    "    corrected = string\n",
    "    words     = string.split()\n",
    "    is_correction = correction(string, back_n, pprobs)\n",
    "    if is_correction:\n",
    "        n, word = is_correction\n",
    "        words[-n] = word if words[-n][-1] not in punctuation else word + words[-n][-1]\n",
    "        corrected = \" \".join(words)\n",
    "    return corrected if corrected != string else False"
   ]
  },
  {
   "cell_type": "code",
   "execution_count": 5,
   "id": "98c45343-68e5-47fc-b767-18e4f285ef9e",
   "metadata": {},
   "outputs": [
    {
     "data": {
      "text/plain": [
       "(array([['when you come in can you remember to feel the cat?',\n",
       "         'when you come in can you remember to feed the cat?'],\n",
       "        ['when you come in can you remember to feed the cad?',\n",
       "         'when you come in can you remember to feed the cat?'],\n",
       "        ['when you come in can you remember to feed the cad? He',\n",
       "         'when you come in can you remember to feed the cat? He'],\n",
       "        ['when you come in can you remember to feed the cad? He needs',\n",
       "         'when you come in can you remember to feed the cat? He needs'],\n",
       "        ['can you remember to feed the cad when',\n",
       "         'can you remember to feed the cat when']], dtype=object),\n",
       " 295)"
      ]
     },
     "execution_count": 5,
     "metadata": {},
     "output_type": "execute_result"
    }
   ],
   "source": [
    "strings = pd.read_csv(\"strings.txt\", quotechar='\"', header=None, index_col=False, skipinitialspace=True).values\n",
    "strings[:5], len(strings)"
   ]
  },
  {
   "cell_type": "code",
   "execution_count": 6,
   "id": "eacd12a2-c1b3-411b-9448-1a0bd900092c",
   "metadata": {},
   "outputs": [
    {
     "name": "stdout",
     "output_type": "stream",
     "text": [
      "(1/250): 0.198 (2/250): 0.143 (3/250): 0.000 (4/250): 0.134 (5/250): 0.130 (6/250): 0.138 (7/250): 0.139 (8/250): 0.061 (9/250): 0.143 (10/250): 0.099 (11/250): 0.107 (12/250): 0.141 (13/250): 0.126 (14/250): 0.092 (15/250): 0.132 (16/250): 0.199 (17/250): 0.300 (18/250): 0.366 (19/250): 0.402 (20/250): 0.236 (21/250): 0.374 (22/250): 0.419 (23/250): 0.280 (24/250): 0.436 (25/250): 0.000 (26/250): 0.407 (27/250): 0.367 (28/250): 0.310 (29/250): 0.401 (30/250): 0.307 (31/250): 0.372 (32/250): 0.423 (33/250): 0.484 (34/250): 0.439 (35/250): 0.363 (36/250): 0.361 (37/250): 0.000 (38/250): 0.311 (39/250): 0.314 (40/250): 0.329 (41/250): 0.323 (42/250): 0.330 (43/250): 0.312 (44/250): 0.317 (45/250): 0.293 (46/250): 0.374 (47/250): 0.340 (48/250): 0.000 (49/250): 0.307 (50/250): 0.283 (51/250): 0.307 (52/250): 0.111 (53/250): 0.116 (54/250): 0.411 (55/250): 0.462 (56/250): 0.398 (57/250): 0.288 (58/250): 0.357 (59/250): 0.289 (60/250): 0.389 (61/250): 0.146 (62/250): 0.283 (63/250): 0.289 (64/250): 0.324 (65/250): 0.307 (66/250): 0.091 (67/250): 0.343 (68/250): 0.406 (69/250): 0.342 (70/250): 0.206 (71/250): 0.324 (72/250): 0.297 (73/250): 0.308 (74/250): 0.385 (75/250): 0.338 (76/250): 0.396 (77/250): 0.270 (78/250): 0.362 (79/250): 0.397 (80/250): 0.355 (81/250): 0.344 (82/250): 0.268 (83/250): 0.339 (84/250): 0.311 (85/250): 0.276 (86/250): 0.332 (87/250): 0.108 (88/250): 0.372 (89/250): 0.194 (90/250): 0.189 (91/250): 0.087 (92/250): 0.187 (93/250): 0.243 (94/250): 0.396 (95/250): 0.425 (96/250): 0.409 (97/250): 0.399 (98/250): 0.371 (99/250): 0.000 (100/250): 0.377 (101/250): 0.318 (102/250): 0.000 (103/250): 0.354 (104/250): 0.427 (105/250): 0.463 (106/250): 0.417 (107/250): 0.247 (108/250): 0.231 (109/250): 0.193 (110/250): 0.000 (111/250): 0.173 (112/250): 0.201 (113/250): 0.208 (114/250): 0.522 (115/250): 0.465 (116/250): 0.168 (117/250): 0.331 (118/250): 0.441 (119/250): 0.456 (120/250): 0.436 (121/250): 0.523 (122/250): 0.456 (123/250): 0.468 (124/250): 0.382 (125/250): 0.476 (126/250): 0.458 (127/250): 0.487 (128/250): 0.456 (129/250): 0.209 (130/250): 0.404 (131/250): 0.463 (132/250): 0.446 (133/250): 0.467 (134/250): 0.453 (135/250): 0.393 (136/250): 0.371 (137/250): 0.000 (138/250): 0.344 (139/250): 0.392 (140/250): 0.331 (141/250): 0.301 (142/250): 0.302 (143/250): 0.213 (144/250): 0.248 (145/250): 0.175 (146/250): 0.298 (147/250): 0.357 (148/250): 0.233 (149/250): 0.400 (150/250): 0.278 (151/250): 0.253 (152/250): 0.330 (153/250): 0.428 (154/250): 0.463 (155/250): 0.527 (156/250): 0.428 (157/250): 0.385 (158/250): 0.389 (159/250): 0.277 (160/250): 0.343 (161/250): 0.363 (162/250): 0.437 (163/250): 0.492 (164/250): 0.243 (165/250): 0.108 (166/250): 0.270 (167/250): 0.494 (168/250): 0.304 (169/250): 0.145 (170/250): 0.229 (171/250): 0.085 (172/250): 0.220 (173/250): 0.239 (174/250): 0.350 (175/250): 0.294 (176/250): 0.218 (177/250): 0.108 (178/250): 0.218 (179/250): 0.216 (180/250): 0.218 (181/250): 0.256 (182/250): 0.246 (183/250): 0.249 (184/250): 0.277 (185/250): 0.304 (186/250): 0.386 (187/250): 0.324 (188/250): 0.285 (189/250): 0.247 (190/250): 0.355 (191/250): 0.235 (192/250): 0.361 (193/250): 0.247 (194/250): 0.232 (195/250): 0.338 (196/250): 0.363 (197/250): 0.366 (198/250): 0.364 (199/250): 0.301 (200/250): 0.357 (201/250): 0.278 (202/250): 0.230 (203/250): 0.191 (204/250): 0.374 (205/250): 0.000 (206/250): 0.381 (207/250): 0.395 (208/250): 0.273 (209/250): 0.289 (210/250): 0.370 (211/250): 0.399 (212/250): 0.437 (213/250): 0.394 (214/250): 0.151 (215/250): 0.286 (216/250): 0.340 (217/250): 0.471 (218/250): 0.412 (219/250): 0.448 (220/250): 0.398 (221/250): 0.430 (222/250): 0.442 (223/250): 0.347 (224/250): 0.224 (225/250): 0.132 (226/250): 0.361 (227/250): 0.328 (228/250): 0.000 (229/250): 0.265 (230/250): 0.322 (231/250): 0.258 (232/250): 0.145 (233/250): 0.328 (234/250): 0.323 (235/250): 0.396 (236/250): 0.350 (237/250): 0.446 (238/250): 0.346 (239/250): 0.336 (240/250): 0.270 (241/250): 0.137 (242/250): 0.000 (243/250): 0.354 (244/250): 0.356 (245/250): 0.491 (246/250): 0.463 (247/250): 0.000 (248/250): 0.389 (249/250): 0.451 (250/250): 0.429 \n",
      "average: 0.302 seconds\n"
     ]
    }
   ],
   "source": [
    "sb_size = 250\n",
    "super_batch = strings[np.random.choice(strings.shape[0], sb_size, replace=False),:]\n",
    "probs = []\n",
    "times = []\n",
    "for i, string in enumerate(super_batch):\n",
    "    t0 = time()\n",
    "    probs.append(get_probs(string[0], 4))\n",
    "    times.append(time()-t0)\n",
    "    print(f'({i+1}/{len(super_batch)}): {times[-1]:.3f} ', end='')\n",
    "print(f'\\naverage: {np.mean(times):.3f} seconds')"
   ]
  },
  {
   "cell_type": "code",
   "execution_count": 7,
   "id": "b3afefdd-8af6-4269-9b4b-7edb2d444cfa",
   "metadata": {},
   "outputs": [
    {
     "name": "stdout",
     "output_type": "stream",
     "text": [
      "(1/150): 0.015 (2/150): 2.571 (3/150): 0.000 (4/150): 0.007 (5/150): 0.013 (6/150): 0.010 (7/150): 0.121 (8/150): 0.000 (9/150): 0.009 (10/150): 0.007 (11/150): 0.008 (12/150): 0.000 (13/150): 0.010 (14/150): 0.008 (15/150): 0.008 (16/150): 0.004 (17/150): 0.006 (18/150): 0.005 (19/150): 0.012 (20/150): 0.006 (21/150): 0.000 (22/150): 0.000 (23/150): 0.016 (24/150): 0.008 (25/150): 0.009 (26/150): 0.004 (27/150): 0.005 (28/150): 0.014 (29/150): 0.000 (30/150): 0.010 (31/150): 0.010 (32/150): 0.009 (33/150): 0.007 (34/150): 0.008 (35/150): 0.007 (36/150): 0.010 (37/150): 0.000 (38/150): 0.007 (39/150): 0.103 (40/150): 0.000 (41/150): 0.010 (42/150): 0.009 (43/150): 0.008 (44/150): 0.013 (45/150): 0.013 (46/150): 0.010 (47/150): 0.009 (48/150): 0.007 (49/150): 0.003 (50/150): 0.011 (51/150): 0.000 (52/150): 0.005 (53/150): 0.013 (54/150): 0.012 (55/150): 0.000 (56/150): 0.000 (57/150): 0.013 (58/150): 0.013 (59/150): 0.000 (60/150): 0.016 (61/150): 0.011 (62/150): 0.000 (63/150): 0.009 (64/150): 0.002 (65/150): 0.008 (66/150): 0.009 (67/150): 0.011 (68/150): 0.010 (69/150): 0.029 (70/150): 0.000 (71/150): 0.000 (72/150): 0.010 (73/150): 0.008 (74/150): 0.011 (75/150): 0.008 (76/150): 0.000 (77/150): 0.008 (78/150): 0.000 (79/150): 0.000 (80/150): 0.095 (81/150): 0.000 (82/150): 0.009 (83/150): 0.011 (84/150): 0.006 (85/150): 0.007 (86/150): 0.008 (87/150): 0.007 (88/150): 0.008 (89/150): 0.005 (90/150): 0.007 (91/150): 0.008 (92/150): 0.007 (93/150): 0.013 (94/150): 0.006 (95/150): 0.010 (96/150): 0.000 (97/150): 0.000 (98/150): 0.012 (99/150): 0.017 (100/150): 0.009 (101/150): 0.015 (102/150): 0.005 (103/150): 0.007 (104/150): 0.007 (105/150): 0.009 (106/150): 0.011 (107/150): 0.000 (108/150): 0.000 (109/150): 0.009 (110/150): 0.007 (111/150): 0.012 (112/150): 0.000 (113/150): 0.005 (114/150): 0.010 (115/150): 0.134 (116/150): 0.003 (117/150): 0.004 (118/150): 0.000 (119/150): 0.000 (120/150): 0.009 (121/150): 0.007 (122/150): 0.012 (123/150): 0.007 (124/150): 0.006 (125/150): 0.008 (126/150): 0.011 (127/150): 0.008 (128/150): 0.010 (129/150): 0.000 (130/150): 0.007 (131/150): 0.008 (132/150): 0.006 (133/150): 0.008 (134/150): 0.000 (135/150): 0.010 (136/150): 0.003 (137/150): 0.000 (138/150): 0.006 (139/150): 0.010 (140/150): 0.004 (141/150): 0.010 (142/150): 0.006 (143/150): 0.008 (144/150): 0.004 (145/150): 0.009 (146/150): 0.006 (147/150): 0.007 (148/150): 0.005 (149/150): 0.009 (150/150): 0.002 \n",
      "average: 0.027 seconds\n"
     ]
    }
   ],
   "source": [
    "back_n  = 4  # number of words back from end of string, 1 is just last word, 0 is [1, 3, 2]\n",
    "k       = 1.2  # exponent parameter for exponential decay of word length augmedented SequenceMatcher\n",
    "ap      = 0.55  # exponent parameter\n",
    "bp      = 1  # exponent parameter\n",
    "log_exp      = 5  # exponent parameter for logarithmic mapping\n",
    "prob_exp     = 1  # raise probability to power in ((prob**power)*log-sim)\n",
    "consider_top = 100  # max top model word predictions considered\n",
    "relevency_t  = 0.07  # threshold defined by portion of top proposition to exclude much smaller scored propositions for correcting\n",
    "base_t       = 0.0015   # decision threshold for last word: base threshold\n",
    "threshold_e  = 1.8  # exponent for exponential thresholds\n",
    "threshold_t  = \"exponential\"  # function defines decision threshold for word n from end\n",
    "\n",
    "batch_size = 150\n",
    "batch_i = np.random.choice(super_batch.shape[0], batch_size, replace=False)\n",
    "batch = super_batch[batch_i,:]\n",
    "corrections = []\n",
    "times = []\n",
    "for i, (pprobs, (x, _)) in enumerate(zip([probs[i] for i in batch_i], batch)): \n",
    "    t0 = time()\n",
    "    corrections.append(process_correction(x, back_n, pprobs))\n",
    "    times.append(time()-t0)\n",
    "    print(f'({i+1}/{len(batch)}): {times[-1]:.3f} ', end='')\n",
    "print(f'\\naverage: {np.mean(times):.3f} seconds')"
   ]
  },
  {
   "cell_type": "code",
   "execution_count": 8,
   "id": "ff2e4912-7822-48a2-b9e8-7a7ec155243c",
   "metadata": {},
   "outputs": [
    {
     "data": {
      "text/plain": [
       "'TP=47, TTP=45, TN=71, FN=29, FP=3, FTP=2'"
      ]
     },
     "execution_count": 8,
     "metadata": {},
     "output_type": "execute_result"
    }
   ],
   "source": [
    "y_h = np.array(corrections == batch[:,1])\n",
    "same = batch[:,0] == batch[:,1]\n",
    "not_corrected = np.array(corrections) == \"False\"\n",
    "tn  = np.logical_and(same, not_corrected)\n",
    "fn  = np.logical_and(np.logical_not(same), not_corrected)\n",
    "fp  = np.logical_and(same, np.logical_not(not_corrected))\n",
    "tp = np.logical_and(np.logical_not(same), np.logical_not(not_corrected))\n",
    "ttp  = np.logical_and(tp, y_h)\n",
    "TN = tn.sum(); FN = fn.sum(); FP = fp.sum(); TP = tp.sum(); TTP = ttp.sum(); TP = tp.sum(); FTP = TP-TTP\n",
    "# [Total] True Positives, True True Positives, True Negatives, False Negatives, False Positives, False True Positives\n",
    "f'TP={TP}, TTP={TTP}, TN={TN}, FN={FN}, FP={FP}, FTP={FTP}'"
   ]
  },
  {
   "cell_type": "code",
   "execution_count": 9,
   "id": "5ccfddb6-7c44-4bc5-a35d-96d576e32c00",
   "metadata": {},
   "outputs": [
    {
     "data": {
      "text/plain": [
       "'precision=0.900, recall=0.618, false_positive_rate=0.041, specificity=0.934, accuracy=0.773, f1=0.733'"
      ]
     },
     "execution_count": 9,
     "metadata": {},
     "output_type": "execute_result"
    }
   ],
   "source": [
    "precision = TTP/(TP+FP)\n",
    "recall    = TP/(TP+FN)\n",
    "fpr       = FP/same.sum()\n",
    "specificity = TN/(TN+FP+FTP)\n",
    "accuracy    = (TTP+TN)/(TP+TN+FP+FN)\n",
    "f1          = (2*precision*recall)/(precision+recall)\n",
    "f'precision={precision:.3f}, recall={recall:.3f}, false_positive_rate={fpr:.3f}, specificity={specificity:.3f}, accuracy={accuracy:.3f}, f1={f1:.3f}'#, f'k={k}, a={ap}, b={bp}, log_exp={log_exp}, prob_exp={prob_exp}, relevency_t={relevency_t}, base_t={base_t}, threshold_e={threshold_e}'"
   ]
  },
  {
   "cell_type": "code",
   "execution_count": 10,
   "id": "8204082a-8b04-48b7-9db1-22ca01aca7b4",
   "metadata": {
    "scrolled": true
   },
   "outputs": [],
   "source": [
    "corrections = []\n",
    "for x, _ in batch: \n",
    "    corrections.append(blob_correct(x))"
   ]
  },
  {
   "cell_type": "code",
   "execution_count": 11,
   "id": "c54da7d9-1c9c-4948-b65c-acc339775564",
   "metadata": {},
   "outputs": [
    {
     "data": {
      "text/plain": [
       "'TP=38, TTP=4, TN=62, FN=38, FP=12, FTP=34'"
      ]
     },
     "execution_count": 11,
     "metadata": {},
     "output_type": "execute_result"
    }
   ],
   "source": [
    "y_h = np.array(corrections == batch[:,1])\n",
    "same = batch[:,0] == batch[:,1]\n",
    "not_corrected = np.array(corrections) == batch[:,0]\n",
    "tn  = np.logical_and(same, not_corrected)\n",
    "fn  = np.logical_and(np.logical_not(same), not_corrected)\n",
    "fp  = np.logical_and(same, np.logical_not(not_corrected))\n",
    "tp = np.logical_and(np.logical_not(same), np.logical_not(not_corrected))\n",
    "ttp  = np.logical_and(tp, y_h)\n",
    "TN = tn.sum(); FN = fn.sum(); FP = fp.sum(); TP = tp.sum(); TTP = ttp.sum(); TP = tp.sum(); FTP = TP-TTP\n",
    "# [Total] True Positives, True True Positives, True Negatives, False Negatives, False Positives, False True Positives\n",
    "f'TP={TP}, TTP={TTP}, TN={TN}, FN={FN}, FP={FP}, FTP={FTP}'"
   ]
  },
  {
   "cell_type": "code",
   "execution_count": 12,
   "id": "3f8fe71c-f17a-4f97-9bbb-992ff64141da",
   "metadata": {},
   "outputs": [
    {
     "data": {
      "text/plain": [
       "'precision=0.080, recall=0.500, false_positive_rate=0.162, specificity=0.574, accuracy=0.440, f1=0.138'"
      ]
     },
     "execution_count": 12,
     "metadata": {},
     "output_type": "execute_result"
    }
   ],
   "source": [
    "precision = TTP/(TP+FP)\n",
    "recall    = TP/(TP+FN)\n",
    "fpr       = FP/same.sum()\n",
    "specificity = TN/(TN+FP+FTP)\n",
    "accuracy    = (TTP+TN)/(TP+TN+FP+FN)\n",
    "f1          = (2*precision*recall)/(precision+recall)\n",
    "f'precision={precision:.3f}, recall={recall:.3f}, false_positive_rate={fpr:.3f}, specificity={specificity:.3f}, accuracy={accuracy:.3f}, f1={f1:.3f}'#, f'k={k}, a={ap}, b={bp}, log_exp={log_exp}, prob_exp={prob_exp}, relevency_t={relevency_t}, base_t={base_t}, threshold_e={threshold_e}'"
   ]
  }
 ],
 "metadata": {
  "kernelspec": {
   "display_name": "Python 3 (ipykernel)",
   "language": "python",
   "name": "python3"
  },
  "language_info": {
   "codemirror_mode": {
    "name": "ipython",
    "version": 3
   },
   "file_extension": ".py",
   "mimetype": "text/x-python",
   "name": "python",
   "nbconvert_exporter": "python",
   "pygments_lexer": "ipython3",
   "version": "3.11.10"
  }
 },
 "nbformat": 4,
 "nbformat_minor": 5
}
