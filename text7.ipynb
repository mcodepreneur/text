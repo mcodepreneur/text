{
 "cells": [
  {
   "cell_type": "code",
   "execution_count": 1,
   "id": "56ef333b-0776-4e7a-9b34-77dc9a9286d7",
   "metadata": {},
   "outputs": [
    {
     "name": "stderr",
     "output_type": "stream",
     "text": [
      "[nltk_data] Downloading package words to C:\\Users\\bills-fish-\n",
      "[nltk_data]     shack\\AppData\\Roaming\\nltk_data...\n",
      "[nltk_data]   Package words is already up-to-date!\n"
     ]
    },
    {
     "data": {
      "text/plain": [
       "True"
      ]
     },
     "execution_count": 1,
     "metadata": {},
     "output_type": "execute_result"
    }
   ],
   "source": [
    "from torch.nn.functional import softmax\n",
    "from transformers import pipeline, GPT2TokenizerFast, GPT2LMHeadModel, AutoTokenizer, BertForMaskedLM\n",
    "from autocorrect import Speller\n",
    "from nltk.stem import WordNetLemmatizer, PorterStemmer\n",
    "from difflib import SequenceMatcher\n",
    "from string import punctuation\n",
    "from textblob import TextBlob\n",
    "from time import time\n",
    "import numpy as np\n",
    "import pandas as pd\n",
    "import torch\n",
    "import nltk\n",
    "nltk.download('words')"
   ]
  },
  {
   "cell_type": "code",
   "execution_count": 2,
   "id": "298822b9-d219-4630-83ce-e1e42d7dac31",
   "metadata": {},
   "outputs": [
    {
     "name": "stderr",
     "output_type": "stream",
     "text": [
      "BertForMaskedLM has generative capabilities, as `prepare_inputs_for_generation` is explicitly overwritten. However, it doesn't directly inherit from `GenerationMixin`. From 👉v4.50👈 onwards, `PreTrainedModel` will NOT inherit from `GenerationMixin`, and this model will lose the ability to call `generate` and other related functions.\n",
      "  - If you're using `trust_remote_code=True`, you can get rid of this warning by loading the model with an auto class. See https://huggingface.co/docs/transformers/en/model_doc/auto#auto-classes\n",
      "  - If you are the owner of the model architecture code, please modify your model class such that it inherits from `GenerationMixin` (after `PreTrainedModel`, otherwise you'll get an exception).\n",
      "  - If you are not the owner of the model architecture class, please contact the model code owner to update it.\n",
      "Some weights of the model checkpoint at google-bert/bert-base-uncased were not used when initializing BertForMaskedLM: ['bert.pooler.dense.bias', 'bert.pooler.dense.weight', 'cls.seq_relationship.bias', 'cls.seq_relationship.weight']\n",
      "- This IS expected if you are initializing BertForMaskedLM from the checkpoint of a model trained on another task or with another architecture (e.g. initializing a BertForSequenceClassification model from a BertForPreTraining model).\n",
      "- This IS NOT expected if you are initializing BertForMaskedLM from the checkpoint of a model that you expect to be exactly identical (initializing a BertForSequenceClassification model from a BertForSequenceClassification model).\n"
     ]
    }
   ],
   "source": [
    "topk = 200  # number of top predicted tokens to retrieve (before excluding non-words) \n",
    "\n",
    "class GPT2:\n",
    "    def __init__(self, model=\"gpt2\"):\n",
    "        self.model     =   GPT2LMHeadModel.from_pretrained(model)\n",
    "        self.tokenizer = GPT2TokenizerFast.from_pretrained(model)\n",
    "        self.model_id  = model\n",
    "    \n",
    "    def get_word_probs(self, sentence, n=topk):  # adapted from raul on stackoverflow\n",
    "        inputs = self.tokenizer.encode(sentence, return_tensors=\"pt\")\n",
    "        with torch.no_grad():\n",
    "            outputs = self.model(inputs)\n",
    "            predictions = outputs[0]\n",
    "        candidates = predictions[0, -1, :]                          # Get the next token candidates.\n",
    "        topk_i = torch.topk(candidates, n).indices.tolist()         # Get the top k next token candidates.\n",
    "        all_probs = torch.nn.functional.softmax(candidates, dim=-1) # Get the token probabilities for all candidates.\n",
    "        topk_probs = all_probs[topk_i].tolist()                     # Filter the token probabilities for the top k candidates.\n",
    "        topk_tokens = [self.tokenizer.decode([idx]).strip()         # Decode the top k candidates back to words.\n",
    "                       for idx in topk_i]\n",
    "        return np.array(list(zip(topk_tokens, topk_probs)))\n",
    "\n",
    "class BERT:\n",
    "    def __init__(self, model=\"google-bert/bert-base-uncased\"):\n",
    "        self.model     = BertForMaskedLM.from_pretrained(model)\n",
    "        self.tokenizer =   AutoTokenizer.from_pretrained(model)\n",
    "        self.model_id  = model\n",
    "        \n",
    "    def get_word_probs(self, prompt, topk=topk):                  # Get topk masked token candidates\n",
    "        inputs = self.tokenizer(prompt, return_tensors=\"pt\")\n",
    "        with torch.no_grad():\n",
    "            logits = self.model(**inputs).logits\n",
    "        mask_index  = (inputs.input_ids == self.tokenizer.mask_token_id)[0].nonzero(as_tuple=True)[0]\n",
    "        mask_logits = logits.squeeze()[mask_index].squeeze()\n",
    "        probs = softmax(mask_logits, dim=-1)\n",
    "        topk = 5000\n",
    "        topk_probs, topk_i = torch.topk(probs, topk, dim=-1)\n",
    "        topk_tokens = np.array([self.tokenizer.decode([i]) for i in topk_i])\n",
    "        return np.hstack((topk_tokens.reshape(-1,1), np.array(topk_probs).reshape(-1,1)))\n",
    "\n",
    "M_GPT2 = GPT2(\"gpt2\")\n",
    "M_BERT = BERT(\"google-bert/bert-base-uncased\")"
   ]
  },
  {
   "cell_type": "code",
   "execution_count": 3,
   "id": "28778b24-f3cf-4081-ae8b-234040de1624",
   "metadata": {},
   "outputs": [],
   "source": [
    "def similar(a, b):\n",
    "    common_len = np.ceil((len(a)+len(b))/2)\n",
    "    adjustment = 0\n",
    "    adjustment_table = {1: 0.5, 2: 0.3, 3: 0.2, 4: 0.1}\n",
    "    if common_len in adjustment_table: adjustment = adjustment_table[common_len]*(np.e**(-k*(np.abs(len(a)-len(b))-ap))-bp)\n",
    "    return SequenceMatcher(None, a, b).ratio() + adjustment\n",
    "def rreplace(string, word, new_word):\n",
    "    start = string.rfind(word)\n",
    "    return string[0:start] + new_word + string[start+len(word):]\n",
    "def blob_correct(sentence):\n",
    "    blob = TextBlob(sentence)\n",
    "    return str(blob.correct())\n",
    "\n",
    "lemmatizer  = WordNetLemmatizer()\n",
    "lemma       = lambda x: lemmatizer.lemmatize(x)\n",
    "stemmer     = PorterStemmer()\n",
    "stem        = lambda x: stemmer.stem(x)\n",
    "spell       = Speller()\n",
    "wl          = set(nltk.corpus.words.words())\n",
    "log_map     = lambda e: np.vectorize(lambda x: np.power(np.log(x/0.5)/np.log(2), e))  # specify exponent to return vectorized mapping\n",
    "after_slash = lambda x: x[(x.rfind(\"/\")+1 if x.rfind(\"/\") != -1 else 0):]"
   ]
  },
  {
   "cell_type": "code",
   "execution_count": 4,
   "id": "da60ee3e-f0a4-489f-8318-636abf0fd4ef",
   "metadata": {},
   "outputs": [],
   "source": [
    "def get_probs(string, back_n):\n",
    "    probs = []\n",
    "    places = range(1,back_n+1)\n",
    "    string = string.strip()\n",
    "    words  = string.split()\n",
    "    last_space = string.rfind(' ')\n",
    "    for n in places:\n",
    "        if n > len(words) or len(words) == 1: break\n",
    "        spelled = False\n",
    "        if n > 1:\n",
    "            model  = M_BERT\n",
    "            masked = \"[MASK]\" + words[-n][-1] if not words[-n][-1].isalpha() else \"[MASK]\"\n",
    "            target = words[-n].strip(punctuation)\n",
    "            prompt = ' '.join(words[:-n] + [masked] + words[len(words)-(n-1):])\n",
    "        else:\n",
    "            model  = M_GPT2\n",
    "            string = string.strip()\n",
    "            last_space = string.rfind(' ')\n",
    "            prompt = string[:last_space]\n",
    "        prob = model.get_word_probs(prompt)\n",
    "        #print(prob)\n",
    "        if len(prob) > 0:\n",
    "            probs.append(prob)\n",
    "        else:\n",
    "            probs.append([['dummy', 0]])\n",
    "    return probs\n",
    "def correction(string, back_n, pprobs=False):\n",
    "    places = reversed(range(1,back_n+1))\n",
    "    if back_n == 0: places = [1, 3, 2]\n",
    "    string = string.strip()\n",
    "    words  = string.split()\n",
    "    last_space = string.rfind(' ')\n",
    "    for n in places:\n",
    "        if n > len(words) or len(words) == 1: break\n",
    "        spelled = False\n",
    "        if n > 1:\n",
    "            model  = M_BERT\n",
    "            masked = \"[MASK]\" + words[-n][-1] if not words[-n][-1].isalpha() else \"[MASK]\"\n",
    "            target = words[-n].strip(punctuation)\n",
    "            prompt = ' '.join(words[:-n] + [masked] + words[len(words)-(n-1):])\n",
    "            target = words[-n].strip(punctuation)\n",
    "            if target != spell(target):\n",
    "                spelled = True\n",
    "        else:\n",
    "            model  = M_GPT2\n",
    "            string = string.strip()\n",
    "            last_space = string.rfind(' ')\n",
    "            prompt = string[:last_space]\n",
    "            target = string[last_space+1:].strip(punctuation)\n",
    "            target = words[-n].strip(punctuation)\n",
    "            if target != spell(target):\n",
    "                spelled = True\n",
    "        if pprobs:\n",
    "            probs = pprobs[n-1]\n",
    "        else:\n",
    "            probs = model.get_word_probs(prompt)\n",
    "        probs[:,1] = probs[:,1].astype(float)/probs[:,1].astype(float).sum()\n",
    "        probsp = [(str(word), float(prob), float(similar(target.lower(), word.lower()))) for word, prob in probs if word in wl]\n",
    "        close_probs = [prob for prob in probsp if prob[2] > 0.5 and prob[1] >= 0.001]\n",
    "        props = [(word, (prob**prob_exp)*log_map(log_exp)(sim)) for word, prob, sim in close_probs]\n",
    "        props = sorted(props, reverse=True, key=lambda x: x[1])\n",
    "        props = [prop for prop in props if prop[1] > 0.000001]\n",
    "        probN = threshold(n)\n",
    "        make_correction = False\n",
    "        if len(props) > 0 and props[0][1] > probN:\n",
    "            make_correction = True\n",
    "            irr_t = props[0][1] * relevency_t\n",
    "            for word, score in props: \n",
    "                if score < irr_t: break\n",
    "                elif target.lower() == word.lower() or stem(target.lower()) == word.lower() or lemma(target.lower()) == word.lower():\n",
    "                    make_correction = False\n",
    "        if make_correction: return (n, props[0][0], spelled)\n",
    "        #if spelled: return (n, target, spelled)\n",
    "    return False\n",
    "def process_correction(string, back_n, pprobs=False):\n",
    "    corrected = string\n",
    "    words     = string.split()\n",
    "    is_correction = correction(string, back_n, pprobs)\n",
    "    if is_correction:\n",
    "        n, word, _ = is_correction\n",
    "        words[-n] = word if words[-n][-1] not in punctuation else word + words[-n][-1]\n",
    "        corrected = \" \".join(words)\n",
    "        #is_correction = correction(corrected, back_n)\n",
    "    return corrected if corrected != string else False"
   ]
  },
  {
   "cell_type": "code",
   "execution_count": 5,
   "id": "98c45343-68e5-47fc-b767-18e4f285ef9e",
   "metadata": {},
   "outputs": [
    {
     "data": {
      "text/plain": [
       "array([['when you come in can you remember to feel the cat?',\n",
       "        'when you come in can you remember to feed the cat?'],\n",
       "       ['when you come in can you remember to feed the cad?',\n",
       "        'when you come in can you remember to feed the cat?'],\n",
       "       ['when you come in can you remember to feed the cad? He',\n",
       "        'when you come in can you remember to feed the cat? He'],\n",
       "       ['when you come in can you remember to feed the cad? He needs',\n",
       "        'when you come in can you remember to feed the cat? He needs'],\n",
       "       ['can you remember to feed the cad when',\n",
       "        'can you remember to feed the cat when']], dtype=object)"
      ]
     },
     "execution_count": 5,
     "metadata": {},
     "output_type": "execute_result"
    }
   ],
   "source": [
    "strings = pd.read_csv(\"strings.txt\", quotechar='\"', header=None, index_col=False, skipinitialspace=True).values\n",
    "strings[:5]"
   ]
  },
  {
   "cell_type": "code",
   "execution_count": 6,
   "id": "ea53e627-5037-4146-8539-0909b1b5a9ca",
   "metadata": {
    "scrolled": true
   },
   "outputs": [
    {
     "data": {
      "text/plain": [
       "array([['If it rains', 'If it rains'],\n",
       "       ['can you go and let', 'can you go and let'],\n",
       "       ['I want to read', 'I want to read'],\n",
       "       ['You have to live up', 'You have to live up'],\n",
       "       ['can you let my aunt use your car when she comes',\n",
       "        'can you let my aunt use your car when she comes']], dtype=object)"
      ]
     },
     "execution_count": 6,
     "metadata": {},
     "output_type": "execute_result"
    }
   ],
   "source": [
    "batch_size = 200\n",
    "batch = strings[np.random.choice(strings.shape[0], batch_size, replace=False),:]\n",
    "batch[:5]"
   ]
  },
  {
   "cell_type": "code",
   "execution_count": 7,
   "id": "eacd12a2-c1b3-411b-9448-1a0bd900092c",
   "metadata": {
    "scrolled": true
   },
   "outputs": [
    {
     "name": "stdout",
     "output_type": "stream",
     "text": [
      "(1/200): 1.733 (2/200): 0.746 (3/200): 0.338 (4/200): 0.373 (5/200): 0.371 (6/200): 0.300 (7/200): 0.323 (8/200): 0.360 (9/200): 0.273 (10/200): 0.977 (11/200): 0.365 (12/200): 0.340 (13/200): 0.423 (14/200): 0.374 (15/200): 0.383 (16/200): 0.343 (17/200): 0.364 (18/200): 0.320 (19/200): 0.239 (20/200): 0.326 (21/200): 0.261 (22/200): 0.283 (23/200): 0.342 (24/200): 0.453 (25/200): 0.426 (26/200): 0.439 (27/200): 0.407 (28/200): 0.467 (29/200): 0.291 (30/200): 0.155 (31/200): 0.393 (32/200): 0.378 (33/200): 0.289 (34/200): 0.382 (35/200): 0.378 (36/200): 0.440 (37/200): 0.410 (38/200): 0.464 (39/200): 0.459 (40/200): 0.196 (41/200): 0.197 (42/200): 0.510 (43/200): 0.476 (44/200): 0.406 (45/200): 0.696 (46/200): 0.146 (47/200): 0.409 (48/200): 0.158 (49/200): 0.449 (50/200): 0.332 (51/200): 0.417 (52/200): 0.433 (53/200): 0.396 (54/200): 0.388 (55/200): 0.480 (56/200): 0.464 (57/200): 0.488 (58/200): 0.437 (59/200): 0.410 (60/200): 0.448 (61/200): 0.470 (62/200): 0.413 (63/200): 0.416 (64/200): 0.437 (65/200): 0.370 (66/200): 0.347 (67/200): 0.435 (68/200): 0.440 (69/200): 0.312 (70/200): 0.179 (71/200): 0.462 (72/200): 0.431 (73/200): 0.396 (74/200): 0.466 (75/200): 0.434 (76/200): 0.000 (77/200): 0.446 (78/200): 0.458 (79/200): 0.388 (80/200): 0.681 (81/200): 0.440 (82/200): 0.399 (83/200): 0.408 (84/200): 0.393 (85/200): 0.383 (86/200): 0.376 (87/200): 0.420 (88/200): 0.359 (89/200): 0.363 (90/200): 0.324 (91/200): 0.426 (92/200): 0.425 (93/200): 0.421 (94/200): 0.318 (95/200): 0.418 (96/200): 0.259 (97/200): 0.369 (98/200): 0.381 (99/200): 0.399 (100/200): 0.413 (101/200): 0.471 (102/200): 0.182 (103/200): 0.409 (104/200): 0.386 (105/200): 0.347 (106/200): 0.389 (107/200): 0.329 (108/200): 0.438 (109/200): 0.386 (110/200): 0.476 (111/200): 0.433 (112/200): 0.170 (113/200): 0.417 (114/200): 0.446 (115/200): 0.000 (116/200): 0.636 (117/200): 0.364 (118/200): 0.165 (119/200): 0.473 (120/200): 0.405 (121/200): 0.397 (122/200): 0.415 (123/200): 0.401 (124/200): 0.294 (125/200): 0.369 (126/200): 0.385 (127/200): 0.385 (128/200): 0.411 (129/200): 0.412 (130/200): 0.389 (131/200): 0.413 (132/200): 0.319 (133/200): 0.378 (134/200): 0.440 (135/200): 0.440 (136/200): 0.441 (137/200): 0.474 (138/200): 0.440 (139/200): 0.418 (140/200): 0.400 (141/200): 0.440 (142/200): 0.395 (143/200): 0.000 (144/200): 0.367 (145/200): 0.272 (146/200): 0.411 (147/200): 0.387 (148/200): 0.393 (149/200): 0.414 (150/200): 0.429 (151/200): 0.845 (152/200): 0.237 (153/200): 0.336 (154/200): 0.484 (155/200): 0.482 (156/200): 0.393 (157/200): 0.379 (158/200): 0.373 (159/200): 0.360 (160/200): 0.455 (161/200): 0.170 (162/200): 0.459 (163/200): 0.297 (164/200): 0.000 (165/200): 0.466 (166/200): 0.464 (167/200): 0.647 (168/200): 0.469 (169/200): 0.383 (170/200): 0.559 (171/200): 0.726 (172/200): 0.475 (173/200): 0.175 (174/200): 0.000 (175/200): 0.387 (176/200): 0.441 (177/200): 0.441 (178/200): 0.489 (179/200): 0.479 (180/200): 0.465 (181/200): 0.614 (182/200): 0.499 (183/200): 0.241 (184/200): 0.482 (185/200): 0.476 (186/200): 0.181 (187/200): 0.152 (188/200): 0.412 (189/200): 0.463 (190/200): 0.000 (191/200): 0.852 (192/200): 0.424 (193/200): 0.389 (194/200): 0.486 (195/200): 0.276 (196/200): 0.548 (197/200): 0.442 (198/200): 0.345 (199/200): 0.437 (200/200): 0.424 \n",
      "average: 0.399 seconds\n"
     ]
    }
   ],
   "source": [
    "probs = []\n",
    "times = []\n",
    "for i, string in enumerate(batch):\n",
    "    t0 = time()\n",
    "    probs.append(get_probs(string[0], 4))\n",
    "    times.append(time()-t0)\n",
    "    print(f'({i+1}/{len(batch)}): {times[-1]:.3f} ', end='')\n",
    "print(f'\\naverage: {np.mean(times):.3f} seconds')"
   ]
  },
  {
   "cell_type": "code",
   "execution_count": 8,
   "id": "1a3f5aa2-3d7c-42b5-be74-e297bf89b78c",
   "metadata": {},
   "outputs": [
    {
     "name": "stdout",
     "output_type": "stream",
     "text": [
      "(1/200): 0.000 (2/200): 4.316 (3/200): 0.177 (4/200): 0.209 (5/200): 0.179 (6/200): 0.128 (7/200): 0.204 (8/200): 0.213 (9/200): 0.000 (10/200): 0.209 (11/200): 0.188 (12/200): 0.261 (13/200): 0.361 (14/200): 0.313 (15/200): 0.167 (16/200): 0.083 (17/200): 0.160 (18/200): 0.183 (19/200): 0.000 (20/200): 0.148 (21/200): 0.000 (22/200): 0.000 (23/200): 0.139 (24/200): 0.141 (25/200): 0.149 (26/200): 0.155 (27/200): 0.163 (28/200): 0.149 (29/200): 0.000 (30/200): 0.000 (31/200): 0.047 (32/200): 0.197 (33/200): 0.000 (34/200): 0.157 (35/200): 0.182 (36/200): 0.057 (37/200): 0.172 (38/200): 0.181 (39/200): 0.197 (40/200): 0.000 (41/200): 0.000 (42/200): 0.125 (43/200): 0.172 (44/200): 0.274 (45/200): 0.313 (46/200): 0.000 (47/200): 0.259 (48/200): 0.000 (49/200): 0.166 (50/200): 0.000 (51/200): 0.269 (52/200): 0.145 (53/200): 0.289 (54/200): 0.173 (55/200): 0.301 (56/200): 0.185 (57/200): 0.174 (58/200): 0.076 (59/200): 0.150 (60/200): 0.146 (61/200): 0.185 (62/200): 0.142 (63/200): 0.168 (64/200): 0.138 (65/200): 0.179 (66/200): 0.153 (67/200): 0.121 (68/200): 0.170 (69/200): 0.000 (70/200): 0.000 (71/200): 0.141 (72/200): 0.208 (73/200): 0.165 (74/200): 0.169 (75/200): 0.103 (76/200): 0.000 (77/200): 0.218 (78/200): 0.185 (79/200): 0.218 (80/200): 0.179 (81/200): 0.220 (82/200): 0.129 (83/200): 0.133 (84/200): 0.150 (85/200): 0.146 (86/200): 0.205 (87/200): 0.186 (88/200): 0.171 (89/200): 0.155 (90/200): 0.000 (91/200): 0.227 (92/200): 0.176 (93/200): 0.264 (94/200): 0.000 (95/200): 0.118 (96/200): 0.000 (97/200): 0.137 (98/200): 0.136 (99/200): 0.135 (100/200): 0.094 (101/200): 0.145 (102/200): 0.000 (103/200): 0.145 (104/200): 0.106 (105/200): 0.139 (106/200): 0.150 (107/200): 0.000 (108/200): 0.166 (109/200): 0.155 (110/200): 0.236 (111/200): 0.164 (112/200): 0.000 (113/200): 0.092 (114/200): 0.169 (115/200): 0.000 (116/200): 0.156 (117/200): 0.149 (118/200): 0.000 (119/200): 0.159 (120/200): 0.131 (121/200): 0.148 (122/200): 0.154 (123/200): 0.088 (124/200): 0.000 (125/200): 0.155 (126/200): 0.166 (127/200): 0.193 (128/200): 0.145 (129/200): 0.105 (130/200): 0.151 (131/200): 0.172 (132/200): 0.000 (133/200): 0.101 (134/200): 0.160 (135/200): 0.183 (136/200): 0.151 (137/200): 0.139 (138/200): 0.128 (139/200): 0.146 (140/200): 0.189 (141/200): 0.185 (142/200): 0.102 (143/200): 0.000 (144/200): 0.138 (145/200): 0.000 (146/200): 0.145 (147/200): 0.092 (148/200): 0.288 (149/200): 0.165 (150/200): 0.180 (151/200): 0.117 (152/200): 0.000 (153/200): 0.000 (154/200): 0.143 (155/200): 0.149 (156/200): 0.218 (157/200): 0.207 (158/200): 0.203 (159/200): 0.231 (160/200): 0.165 (161/200): 0.000 (162/200): 0.197 (163/200): 0.000 (164/200): 0.000 (165/200): 0.243 (166/200): 0.222 (167/200): 0.295 (168/200): 0.147 (169/200): 0.139 (170/200): 0.194 (171/200): 0.193 (172/200): 0.207 (173/200): 0.000 (174/200): 0.000 (175/200): 0.278 (176/200): 0.134 (177/200): 0.251 (178/200): 0.245 (179/200): 0.189 (180/200): 0.157 (181/200): 0.198 (182/200): 0.191 (183/200): 0.000 (184/200): 0.144 (185/200): 0.176 (186/200): 0.000 (187/200): 0.000 (188/200): 0.186 (189/200): 0.000 (190/200): 0.000 (191/200): 0.136 (192/200): 0.185 (193/200): 0.178 (194/200): 0.150 (195/200): 0.000 (196/200): 0.158 (197/200): 0.138 (198/200): 0.000 (199/200): 0.309 (200/200): 0.235 \n",
      "average: 0.158 seconds\n"
     ]
    }
   ],
   "source": [
    "back_n  = 4  # number of words back from end of string, 1 is just last word, 0 is [1, 3, 2]\n",
    "k       = 1.2  # exponent parameter for exponential decay of word length augmedented SequenceMatcher\n",
    "ap      = 0.55  # exponent parameter\n",
    "bp      = 1  # exponent parameter\n",
    "log_exp      = 5  # exponent parameter for logarithmic mapping\n",
    "prob_exp     = 1  # raise probability to power in ((prob**power)*log-sim)\n",
    "consider_top = 100  # max top model word predictions considered\n",
    "relevency_t  = 0.07  # threshold defined by portion of top proposition to exclude much smaller scored propositions for correcting\n",
    "base_t       = 0.0015   # decision threshold for last word: base threshold\n",
    "threshold_e  = 1.8  # exponent for exponential thresholds\n",
    "threshold_t  = \"exponential\"  # function defines decision threshold for word n from end\n",
    "threshold    = {\"constant\":    lambda n: base_t,\n",
    "                \"linear\":      lambda n: base_t + (base_t * (n-1)),\n",
    "                \"exponential\": lambda n: base_t * (n**threshold_e),\n",
    "                \"jump-exp\":    lambda n: base_t * (max(n-1,1)**threshold_e),        # jump thresholds start growing after n=2\n",
    "                \"jump-lin\":    lambda n: base_t + (base_t * max(n-2, 0))\n",
    "               }[threshold_t]\n",
    "\n",
    "corrections = []\n",
    "times = []\n",
    "for i, (pprobs, (x, _)) in enumerate(zip(probs, batch)): \n",
    "    t0 = time()\n",
    "    corrections.append(process_correction(x, back_n, pprobs))\n",
    "    times.append(time()-t0)\n",
    "    print(f'({i+1}/{len(batch)}): {times[-1]:.3f} ', end='')\n",
    "print(f'\\naverage: {np.mean(times):.3f} seconds')"
   ]
  },
  {
   "cell_type": "code",
   "execution_count": 9,
   "id": "ff2e4912-7822-48a2-b9e8-7a7ec155243c",
   "metadata": {},
   "outputs": [
    {
     "data": {
      "text/plain": [
       "'TP=55, TTP=52, TN=95, FN=47, FP=3, FTP=3'"
      ]
     },
     "execution_count": 9,
     "metadata": {},
     "output_type": "execute_result"
    }
   ],
   "source": [
    "y_h = np.array(corrections == batch[:,1])\n",
    "same = batch[:,0] == batch[:,1]\n",
    "not_corrected = np.array(corrections) == \"False\"\n",
    "tn  = np.logical_and(same, not_corrected)\n",
    "fn  = np.logical_and(np.logical_not(same), not_corrected)\n",
    "fp  = np.logical_and(same, np.logical_not(not_corrected))\n",
    "tp = np.logical_and(np.logical_not(same), np.logical_not(not_corrected))\n",
    "ttp  = np.logical_and(tp, y_h)\n",
    "TN = tn.sum(); FN = fn.sum(); FP = fp.sum(); TP = tp.sum(); TTP = ttp.sum(); TP = tp.sum(); FTP = TP-TTP\n",
    "# [Total] True Positives, True True Positives, True Negatives, False Negatives, False Positives, False True Positives\n",
    "f'TP={TP}, TTP={TTP}, TN={TN}, FN={FN}, FP={FP}, FTP={FTP}'"
   ]
  },
  {
   "cell_type": "code",
   "execution_count": 10,
   "id": "5ccfddb6-7c44-4bc5-a35d-96d576e32c00",
   "metadata": {},
   "outputs": [
    {
     "data": {
      "text/plain": [
       "'precision=0.897, recall=0.539, specificity=0.941, accuracy=0.735, f1=0.673'"
      ]
     },
     "execution_count": 10,
     "metadata": {},
     "output_type": "execute_result"
    }
   ],
   "source": [
    "precision   = TTP/(TP+FP)\n",
    "recall      = TP/(TP+FN)\n",
    "specificity = TN/(TN+FP+FTP)\n",
    "accuracy    = (TTP+TN)/(TP+TN+FP+FN)\n",
    "f1          = (2*precision*recall)/(precision+recall)\n",
    "f'precision={precision:.3f}, recall={recall:.3f}, specificity={specificity:.3f}, accuracy={accuracy:.3f}, f1={f1:.3f}'#, f'k={k}, a={ap}, b={bp}, log_exp={log_exp}, prob_exp={prob_exp}, relevency_t={relevency_t}, base_t={base_t}, threshold_e={threshold_e}'"
   ]
  },
  {
   "cell_type": "code",
   "execution_count": 11,
   "id": "8204082a-8b04-48b7-9db1-22ca01aca7b4",
   "metadata": {
    "scrolled": true
   },
   "outputs": [],
   "source": [
    "corrections = []\n",
    "for x, _ in batch: \n",
    "    corrections.append(blob_correct(x))"
   ]
  },
  {
   "cell_type": "code",
   "execution_count": 12,
   "id": "c54da7d9-1c9c-4948-b65c-acc339775564",
   "metadata": {},
   "outputs": [
    {
     "data": {
      "text/plain": [
       "'TP=44, TTP=4, TN=78, FN=58, FP=20, FTP=40'"
      ]
     },
     "execution_count": 12,
     "metadata": {},
     "output_type": "execute_result"
    }
   ],
   "source": [
    "y_h = np.array(corrections == batch[:,1])\n",
    "same = batch[:,0] == batch[:,1]\n",
    "not_corrected = np.array(corrections) == batch[:,0]\n",
    "tn  = np.logical_and(same, not_corrected)\n",
    "fn  = np.logical_and(np.logical_not(same), not_corrected)\n",
    "fp  = np.logical_and(same, np.logical_not(not_corrected))\n",
    "tp = np.logical_and(np.logical_not(same), np.logical_not(not_corrected))\n",
    "ttp  = np.logical_and(tp, y_h)\n",
    "TN = tn.sum(); FN = fn.sum(); FP = fp.sum(); TP = tp.sum(); TTP = ttp.sum(); TP = tp.sum(); FTP = TP-TTP\n",
    "# [Total] True Positives, True True Positives, True Negatives, False Negatives, False Positives, False True Positives\n",
    "f'TP={TP}, TTP={TTP}, TN={TN}, FN={FN}, FP={FP}, FTP={FTP}'"
   ]
  },
  {
   "cell_type": "code",
   "execution_count": 13,
   "id": "3f8fe71c-f17a-4f97-9bbb-992ff64141da",
   "metadata": {},
   "outputs": [
    {
     "data": {
      "text/plain": [
       "'precision=0.062, recall=0.431, specificity=0.565, accuracy=0.410, f1=0.109'"
      ]
     },
     "execution_count": 13,
     "metadata": {},
     "output_type": "execute_result"
    }
   ],
   "source": [
    "precision   = TTP/(TP+FP)\n",
    "recall      = TP/(TP+FN)\n",
    "specificity = TN/(TN+FP+FTP)\n",
    "accuracy    = (TTP+TN)/(TP+TN+FP+FN)\n",
    "f1          = (2*precision*recall)/(precision+recall)\n",
    "f'precision={precision:.3f}, recall={recall:.3f}, specificity={specificity:.3f}, accuracy={accuracy:.3f}, f1={f1:.3f}'#, f'k={k}, a={ap}, b={bp}, log_exp={log_exp}, prob_exp={prob_exp}, relevency_t={relevency_t}, base_t={base_t}, threshold_e={threshold_e}'"
   ]
  }
 ],
 "metadata": {
  "kernelspec": {
   "display_name": "Python 3 (ipykernel)",
   "language": "python",
   "name": "python3"
  },
  "language_info": {
   "codemirror_mode": {
    "name": "ipython",
    "version": 3
   },
   "file_extension": ".py",
   "mimetype": "text/x-python",
   "name": "python",
   "nbconvert_exporter": "python",
   "pygments_lexer": "ipython3",
   "version": "3.11.10"
  }
 },
 "nbformat": 4,
 "nbformat_minor": 5
}
