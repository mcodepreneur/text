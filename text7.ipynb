{
 "cells": [
  {
   "cell_type": "code",
   "execution_count": 1,
   "id": "56ef333b-0776-4e7a-9b34-77dc9a9286d7",
   "metadata": {},
   "outputs": [
    {
     "name": "stderr",
     "output_type": "stream",
     "text": [
      "[nltk_data] Downloading package words to C:\\Users\\bills-fish-\n",
      "[nltk_data]     shack\\AppData\\Roaming\\nltk_data...\n",
      "[nltk_data]   Package words is already up-to-date!\n"
     ]
    },
    {
     "data": {
      "text/plain": [
       "True"
      ]
     },
     "execution_count": 1,
     "metadata": {},
     "output_type": "execute_result"
    }
   ],
   "source": [
    "from torch.nn.functional import softmax\n",
    "from transformers import pipeline, GPT2TokenizerFast, GPT2LMHeadModel, AutoTokenizer, BertForMaskedLM\n",
    "from autocorrect import Speller\n",
    "from nltk.stem import WordNetLemmatizer, PorterStemmer\n",
    "from textblob import TextBlob\n",
    "from difflib import SequenceMatcher\n",
    "from string import punctuation\n",
    "from time import time\n",
    "import numpy as np\n",
    "import pandas as pd\n",
    "import torch\n",
    "import nltk\n",
    "nltk.download('words')"
   ]
  },
  {
   "cell_type": "code",
   "execution_count": 2,
   "id": "298822b9-d219-4630-83ce-e1e42d7dac31",
   "metadata": {},
   "outputs": [
    {
     "name": "stderr",
     "output_type": "stream",
     "text": [
      "BertForMaskedLM has generative capabilities, as `prepare_inputs_for_generation` is explicitly overwritten. However, it doesn't directly inherit from `GenerationMixin`. From 👉v4.50👈 onwards, `PreTrainedModel` will NOT inherit from `GenerationMixin`, and this model will lose the ability to call `generate` and other related functions.\n",
      "  - If you're using `trust_remote_code=True`, you can get rid of this warning by loading the model with an auto class. See https://huggingface.co/docs/transformers/en/model_doc/auto#auto-classes\n",
      "  - If you are the owner of the model architecture code, please modify your model class such that it inherits from `GenerationMixin` (after `PreTrainedModel`, otherwise you'll get an exception).\n",
      "  - If you are not the owner of the model architecture class, please contact the model code owner to update it.\n",
      "Some weights of the model checkpoint at google-bert/bert-base-uncased were not used when initializing BertForMaskedLM: ['bert.pooler.dense.bias', 'bert.pooler.dense.weight', 'cls.seq_relationship.bias', 'cls.seq_relationship.weight']\n",
      "- This IS expected if you are initializing BertForMaskedLM from the checkpoint of a model trained on another task or with another architecture (e.g. initializing a BertForSequenceClassification model from a BertForPreTraining model).\n",
      "- This IS NOT expected if you are initializing BertForMaskedLM from the checkpoint of a model that you expect to be exactly identical (initializing a BertForSequenceClassification model from a BertForSequenceClassification model).\n"
     ]
    }
   ],
   "source": [
    "topk = 200  # number of top predicted tokens to retrieve (before excluding non-words) \n",
    "\n",
    "class GPT2:\n",
    "    def __init__(self, model=\"gpt2\"):\n",
    "        self.model     =   GPT2LMHeadModel.from_pretrained(model)\n",
    "        self.tokenizer = GPT2TokenizerFast.from_pretrained(model)\n",
    "        self.model_id  = model\n",
    "    \n",
    "    def get_word_probs(self, sentence, n=topk):  # adapted from raul on stackoverflow\n",
    "        inputs = self.tokenizer.encode(sentence, return_tensors=\"pt\")\n",
    "        with torch.no_grad():\n",
    "            outputs = self.model(inputs)\n",
    "            predictions = outputs[0]\n",
    "        candidates = predictions[0, -1, :]                          # Get the next token candidates.\n",
    "        topk_i = torch.topk(candidates, n).indices.tolist()         # Get the top k next token candidates.\n",
    "        all_probs = torch.nn.functional.softmax(candidates, dim=-1) # Get the token probabilities for all candidates.\n",
    "        topk_probs = all_probs[topk_i].tolist()                     # Filter the token probabilities for the top k candidates.\n",
    "        topk_tokens = [self.tokenizer.decode([idx]).strip()         # Decode the top k candidates back to words.\n",
    "                       for idx in topk_i]\n",
    "        return np.array(list(zip(topk_tokens, topk_probs)))\n",
    "\n",
    "class BERT:\n",
    "    def __init__(self, model=\"google-bert/bert-base-uncased\"):\n",
    "        self.model     = BertForMaskedLM.from_pretrained(model)\n",
    "        self.tokenizer =   AutoTokenizer.from_pretrained(model)\n",
    "        self.model_id  = model\n",
    "        \n",
    "    def get_word_probs(self, prompt, topk=topk):                  # Get topk masked token candidates\n",
    "        inputs = self.tokenizer(prompt, return_tensors=\"pt\")\n",
    "        with torch.no_grad():\n",
    "            logits = self.model(**inputs).logits\n",
    "        mask_index  = (inputs.input_ids == self.tokenizer.mask_token_id)[0].nonzero(as_tuple=True)[0]\n",
    "        mask_logits = logits.squeeze()[mask_index].squeeze()\n",
    "        probs = softmax(mask_logits, dim=-1)\n",
    "        topk_probs, topk_i = torch.topk(probs, topk, dim=-1)\n",
    "        topk_tokens = np.array([self.tokenizer.decode([i]) for i in topk_i])\n",
    "        return np.hstack((topk_tokens.reshape(-1,1), np.array(topk_probs).reshape(-1,1)))\n",
    "\n",
    "M_GPT2 = GPT2(\"gpt2\")\n",
    "M_BERT = BERT(\"google-bert/bert-base-uncased\")"
   ]
  },
  {
   "cell_type": "code",
   "execution_count": 3,
   "id": "28778b24-f3cf-4081-ae8b-234040de1624",
   "metadata": {},
   "outputs": [],
   "source": [
    "def similar(a, b):\n",
    "    common_len = np.ceil((len(a)+len(b))/2)\n",
    "    adjustment = 0\n",
    "    adjustment_table = {1: 0.5, 2: 0.3, 3: 0.2, 4: 0.1}\n",
    "    if common_len in adjustment_table: adjustment = adjustment_table[common_len]*(np.e**(-k*(np.abs(len(a)-len(b))-ap))-bp)\n",
    "    return SequenceMatcher(None, a, b).ratio() + adjustment\n",
    "def rreplace(string, word, new_word):\n",
    "    start = string.rfind(word)\n",
    "    return string[0:start] + new_word + string[start+len(word):]\n",
    "def blob_correct(sentence):\n",
    "    blob = TextBlob(sentence)\n",
    "    return str(blob.correct())\n",
    "    \n",
    "threshold    = {\"constant\":    lambda n: base_t,\n",
    "                \"linear\":      lambda n: base_t + (base_t * (n-1)),\n",
    "                \"exponential\": lambda n: base_t * (n**threshold_e),\n",
    "                \"jump-exp\":    lambda n: base_t * (max(n-1,1)**threshold_e),        # jump thresholds start growing after n=2\n",
    "                \"jump-lin\":    lambda n: base_t + (base_t * max(n-2, 0))}\n",
    "lemmatizer  = WordNetLemmatizer()\n",
    "lemma       = lambda x: lemmatizer.lemmatize(x)\n",
    "stemmer     = PorterStemmer()\n",
    "stem        = lambda x: stemmer.stem(x)\n",
    "spell       = Speller()\n",
    "wl          = set(nltk.corpus.words.words())\n",
    "log_map     = lambda e: np.vectorize(lambda x: np.power(np.log(x/0.5)/np.log(2), e))  # specify exponent to return vectorized mapping\n",
    "after_slash = lambda x: x[(x.rfind(\"/\")+1 if x.rfind(\"/\") != -1 else 0):]"
   ]
  },
  {
   "cell_type": "code",
   "execution_count": 4,
   "id": "da60ee3e-f0a4-489f-8318-636abf0fd4ef",
   "metadata": {},
   "outputs": [],
   "source": [
    "def get_probs(string, back_n):\n",
    "    probs = []\n",
    "    places = range(1,back_n+1)\n",
    "    string = string.strip()\n",
    "    words  = string.split()\n",
    "    last_space = string.rfind(' ')\n",
    "    for n in places:\n",
    "        if n > len(words) or len(words) == 1: break\n",
    "        spelled = False\n",
    "        if n > 1:\n",
    "            model  = M_BERT\n",
    "            masked = \"[MASK]\" + words[-n][-1] if not words[-n][-1].isalpha() else \"[MASK]\"\n",
    "            target = words[-n].strip(punctuation)\n",
    "            prompt = ' '.join(words[:-n] + [masked] + words[len(words)-(n-1):])\n",
    "        else:\n",
    "            model  = M_GPT2\n",
    "            string = string.strip()\n",
    "            last_space = string.rfind(' ')\n",
    "            prompt = string[:last_space]\n",
    "        prob = model.get_word_probs(prompt)\n",
    "        if len(prob) > 0:\n",
    "            probs.append(prob)\n",
    "        else:\n",
    "            probs.append(np.array([['dummy', 0]]))\n",
    "    return probs\n",
    "def correction(string, back_n, pprobs=False):\n",
    "    places = reversed(range(1,back_n+1))\n",
    "    if back_n == 0: places = [1, 3, 2]\n",
    "    string = string.strip()\n",
    "    words  = string.split()\n",
    "    last_space = string.rfind(' ')\n",
    "    for n in places:\n",
    "        if n > len(words) or len(words) == 1: break\n",
    "        spelled = False\n",
    "        if n > 1:\n",
    "            model  = M_BERT\n",
    "            masked = \"[MASK]\" + words[-n][-1] if not words[-n][-1].isalpha() else \"[MASK]\"\n",
    "            target = words[-n].strip(punctuation)\n",
    "            prompt = ' '.join(words[:-n] + [masked] + words[len(words)-(n-1):])\n",
    "            target = words[-n].strip(punctuation)\n",
    "            if target != spell(target):\n",
    "                spelled = True\n",
    "        else:\n",
    "            model  = M_GPT2\n",
    "            string = string.strip()\n",
    "            last_space = string.rfind(' ')\n",
    "            prompt = string[:last_space]\n",
    "            target = string[last_space+1:].strip(punctuation)\n",
    "            target = words[-n].strip(punctuation)\n",
    "            if target != spell(target):\n",
    "                spelled = True\n",
    "                \n",
    "        if pprobs:\n",
    "            probs = pprobs[n-1]\n",
    "        else:\n",
    "            probs = model.get_word_probs(prompt)\n",
    "            \n",
    "        probs[:, 1] = probs[:, 1].astype(float) / probs[:, 1].astype(float).sum()\n",
    "        probsp = [(str(word), float(prob), float(similar(target.lower(), word.lower()))) \n",
    "                  for word, prob in probs if word in wl]\n",
    "        close_probs = [prob for prob in probsp if prob[2] > 0.5 and prob[1] >= 0.001]\n",
    "        props = [(word, (prob**prob_exp)*log_map(log_exp)(sim)) for word, prob, sim in close_probs]\n",
    "        props = sorted(props, reverse=True, key=lambda x: x[1])\n",
    "        \n",
    "        probN = threshold[threshold_t](n)\n",
    "        make_correction = False\n",
    "        if len(props) > 0 and float(props[0][1]) > probN:\n",
    "            make_correction = True\n",
    "            irr_t = float(props[0][1]) * relevency_t\n",
    "            for word, score in props: \n",
    "                if float(score) < irr_t: break\n",
    "                elif target.lower() == word.lower() or stem(target.lower()) == word.lower() or lemma(target.lower()) == word.lower():\n",
    "                    make_correction = False\n",
    "        if make_correction: return (n, props[0][0], spelled)\n",
    "        if spelled: \n",
    "            target = spell(target)\n",
    "            \n",
    "    return False\n",
    "def process_correction(string, back_n, pprobs=False):\n",
    "    corrected = string\n",
    "    words     = string.split()\n",
    "    is_correction = correction(string, back_n, pprobs)\n",
    "    if is_correction:\n",
    "        n, word, _ = is_correction\n",
    "        words[-n] = word if words[-n][-1] not in punctuation else word + words[-n][-1]\n",
    "        corrected = \" \".join(words)\n",
    "    return corrected if corrected != string else False"
   ]
  },
  {
   "cell_type": "code",
   "execution_count": 5,
   "id": "98c45343-68e5-47fc-b767-18e4f285ef9e",
   "metadata": {},
   "outputs": [
    {
     "data": {
      "text/plain": [
       "(array([['when you come in can you remember to feel the cat?',\n",
       "         'when you come in can you remember to feed the cat?'],\n",
       "        ['when you come in can you remember to feed the cad?',\n",
       "         'when you come in can you remember to feed the cat?'],\n",
       "        ['when you come in can you remember to feed the cad? He',\n",
       "         'when you come in can you remember to feed the cat? He'],\n",
       "        ['when you come in can you remember to feed the cad? He needs',\n",
       "         'when you come in can you remember to feed the cat? He needs'],\n",
       "        ['can you remember to feed the cad when',\n",
       "         'can you remember to feed the cat when']], dtype=object),\n",
       " 295)"
      ]
     },
     "execution_count": 5,
     "metadata": {},
     "output_type": "execute_result"
    }
   ],
   "source": [
    "strings = pd.read_csv(\"strings.txt\", quotechar='\"', header=None, index_col=False, skipinitialspace=True).values\n",
    "strings[:5], len(strings)"
   ]
  },
  {
   "cell_type": "code",
   "execution_count": 6,
   "id": "eacd12a2-c1b3-411b-9448-1a0bd900092c",
   "metadata": {},
   "outputs": [
    {
     "name": "stdout",
     "output_type": "stream",
     "text": [
      "(1/250): 0.329 (2/250): 0.126 (3/250): 0.131 (4/250): 0.133 (5/250): 0.126 (6/250): 0.135 (7/250): 0.130 (8/250): 0.134 (9/250): 0.147 (10/250): 0.133 (11/250): 0.000 (12/250): 0.134 (13/250): 0.123 (14/250): 0.160 (15/250): 0.136 (16/250): 0.163 (17/250): 0.181 (18/250): 0.073 (19/250): 0.150 (20/250): 0.155 (21/250): 0.134 (22/250): 0.142 (23/250): 0.070 (24/250): 0.185 (25/250): 0.161 (26/250): 0.147 (27/250): 0.385 (28/250): 0.369 (29/250): 0.350 (30/250): 0.185 (31/250): 0.302 (32/250): 0.294 (33/250): 0.201 (34/250): 0.305 (35/250): 0.368 (36/250): 0.244 (37/250): 0.122 (38/250): 0.315 (39/250): 0.328 (40/250): 0.328 (41/250): 0.393 (42/250): 0.391 (43/250): 0.439 (44/250): 0.349 (45/250): 0.331 (46/250): 0.375 (47/250): 0.349 (48/250): 0.414 (49/250): 0.450 (50/250): 0.188 (51/250): 0.377 (52/250): 0.382 (53/250): 0.341 (54/250): 0.257 (55/250): 0.295 (56/250): 0.353 (57/250): 0.000 (58/250): 0.257 (59/250): 0.121 (60/250): 0.339 (61/250): 0.346 (62/250): 0.373 (63/250): 0.299 (64/250): 0.187 (65/250): 0.365 (66/250): 0.507 (67/250): 0.324 (68/250): 0.339 (69/250): 0.230 (70/250): 0.000 (71/250): 0.235 (72/250): 0.146 (73/250): 0.311 (74/250): 0.318 (75/250): 0.311 (76/250): 0.345 (77/250): 0.228 (78/250): 0.364 (79/250): 0.316 (80/250): 0.294 (81/250): 0.263 (82/250): 0.196 (83/250): 0.000 (84/250): 0.289 (85/250): 0.309 (86/250): 0.308 (87/250): 0.270 (88/250): 0.332 (89/250): 0.136 (90/250): 0.422 (91/250): 0.407 (92/250): 0.421 (93/250): 0.371 (94/250): 0.314 (95/250): 0.213 (96/250): 0.303 (97/250): 0.243 (98/250): 0.000 (99/250): 0.282 (100/250): 0.164 (101/250): 0.361 (102/250): 0.360 (103/250): 0.435 (104/250): 0.309 (105/250): 0.120 (106/250): 0.238 (107/250): 0.316 (108/250): 0.273 (109/250): 0.140 (110/250): 0.327 (111/250): 0.312 (112/250): 0.329 (113/250): 0.409 (114/250): 0.371 (115/250): 0.429 (116/250): 0.314 (117/250): 0.370 (118/250): 0.330 (119/250): 0.396 (120/250): 0.378 (121/250): 0.402 (122/250): 0.230 (123/250): 0.366 (124/250): 0.362 (125/250): 0.335 (126/250): 0.102 (127/250): 0.319 (128/250): 0.300 (129/250): 0.190 (130/250): 0.186 (131/250): 0.282 (132/250): 0.249 (133/250): 0.164 (134/250): 0.366 (135/250): 0.390 (136/250): 0.249 (137/250): 0.268 (138/250): 0.182 (139/250): 0.149 (140/250): 0.398 (141/250): 0.379 (142/250): 0.429 (143/250): 0.263 (144/250): 0.322 (145/250): 0.320 (146/250): 0.233 (147/250): 0.294 (148/250): 0.000 (149/250): 0.362 (150/250): 0.408 (151/250): 0.402 (152/250): 0.368 (153/250): 0.304 (154/250): 0.250 (155/250): 0.239 (156/250): 0.418 (157/250): 0.446 (158/250): 0.366 (159/250): 0.325 (160/250): 0.339 (161/250): 0.312 (162/250): 0.000 (163/250): 0.245 (164/250): 0.234 (165/250): 0.375 (166/250): 0.406 (167/250): 0.471 (168/250): 0.313 (169/250): 0.319 (170/250): 0.400 (171/250): 0.336 (172/250): 0.341 (173/250): 0.346 (174/250): 0.282 (175/250): 0.272 (176/250): 0.358 (177/250): 0.267 (178/250): 0.379 (179/250): 0.339 (180/250): 0.283 (181/250): 0.401 (182/250): 0.332 (183/250): 0.354 (184/250): 0.236 (185/250): 0.352 (186/250): 0.399 (187/250): 0.347 (188/250): 0.388 (189/250): 0.325 (190/250): 0.322 (191/250): 0.412 (192/250): 0.274 (193/250): 0.212 (194/250): 0.183 (195/250): 0.308 (196/250): 0.332 (197/250): 0.363 (198/250): 0.396 (199/250): 0.269 (200/250): 0.358 (201/250): 0.302 (202/250): 0.275 (203/250): 0.000 (204/250): 0.333 (205/250): 0.418 (206/250): 0.399 (207/250): 0.392 (208/250): 0.314 (209/250): 0.349 (210/250): 0.316 (211/250): 0.331 (212/250): 0.327 (213/250): 0.321 (214/250): 0.288 (215/250): 0.390 (216/250): 0.000 (217/250): 0.319 (218/250): 0.281 (219/250): 0.000 (220/250): 0.109 (221/250): 0.130 (222/250): 0.366 (223/250): 0.319 (224/250): 0.354 (225/250): 0.345 (226/250): 0.305 (227/250): 0.261 (228/250): 0.344 (229/250): 0.302 (230/250): 0.000 (231/250): 0.274 (232/250): 0.284 (233/250): 0.306 (234/250): 0.354 (235/250): 0.141 (236/250): 0.327 (237/250): 0.114 (238/250): 0.310 (239/250): 0.318 (240/250): 0.125 (241/250): 0.301 (242/250): 0.318 (243/250): 0.185 (244/250): 0.432 (245/250): 0.342 (246/250): 0.289 (247/250): 0.384 (248/250): 0.249 (249/250): 0.328 (250/250): 0.205 \n",
      "average: 0.281 seconds\n"
     ]
    }
   ],
   "source": [
    "sb_size = 250\n",
    "super_batch = strings[np.random.choice(strings.shape[0], sb_size, replace=False),:]\n",
    "probs = []\n",
    "times = []\n",
    "for i, string in enumerate(super_batch):\n",
    "    t0 = time()\n",
    "    probs.append(get_probs(string[0], 4))\n",
    "    times.append(time()-t0)\n",
    "    print(f'({i+1}/{len(super_batch)}): {times[-1]:.3f} ', end='')\n",
    "print(f'\\naverage: {np.mean(times):.3f} seconds')"
   ]
  },
  {
   "cell_type": "code",
   "execution_count": 7,
   "id": "b3afefdd-8af6-4269-9b4b-7edb2d444cfa",
   "metadata": {},
   "outputs": [
    {
     "name": "stdout",
     "output_type": "stream",
     "text": [
      "(1/100): 0.000 (2/100): 2.545 (3/100): 0.009 (4/100): 0.011 (5/100): 0.004 (6/100): 0.008 (7/100): 0.005 (8/100): 0.010 (9/100): 0.000 (10/100): 0.011 (11/100): 0.016 (12/100): 0.006 (13/100): 0.006 (14/100): 0.000 (15/100): 0.007 (16/100): 0.005 (17/100): 0.090 (18/100): 0.010 (19/100): 0.002 (20/100): 0.006 (21/100): 0.007 (22/100): 0.000 (23/100): 0.007 (24/100): 0.007 (25/100): 0.008 (26/100): 0.096 (27/100): 0.011 (28/100): 0.004 (29/100): 0.009 (30/100): 0.009 (31/100): 0.008 (32/100): 0.007 (33/100): 0.000 (34/100): 0.006 (35/100): 0.000 (36/100): 0.000 (37/100): 0.002 (38/100): 0.000 (39/100): 0.004 (40/100): 0.009 (41/100): 0.000 (42/100): 0.003 (43/100): 0.009 (44/100): 0.006 (45/100): 0.006 (46/100): 0.005 (47/100): 0.008 (48/100): 0.009 (49/100): 0.000 (50/100): 0.008 (51/100): 0.008 (52/100): 0.002 (53/100): 0.011 (54/100): 0.008 (55/100): 0.006 (56/100): 0.004 (57/100): 0.012 (58/100): 0.000 (59/100): 0.008 (60/100): 0.007 (61/100): 0.008 (62/100): 0.009 (63/100): 0.000 (64/100): 0.000 (65/100): 0.007 (66/100): 0.011 (67/100): 0.000 (68/100): 0.007 (69/100): 0.000 (70/100): 0.093 (71/100): 0.010 (72/100): 0.000 (73/100): 0.000 (74/100): 0.004 (75/100): 0.008 (76/100): 0.007 (77/100): 0.002 (78/100): 0.008 (79/100): 0.007 (80/100): 0.008 (81/100): 0.000 (82/100): 0.009 (83/100): 0.010 (84/100): 0.010 (85/100): 0.009 (86/100): 0.009 (87/100): 0.003 (88/100): 0.010 (89/100): 0.008 (90/100): 0.012 (91/100): 0.006 (92/100): 0.007 (93/100): 0.007 (94/100): 0.008 (95/100): 0.010 (96/100): 0.008 (97/100): 0.007 (98/100): 0.000 (99/100): 0.000 (100/100): 0.008 \n",
      "average: 0.034 seconds\n"
     ]
    }
   ],
   "source": [
    "back_n  = 4  # number of words back from end of string, 1 is just last word, 0 is [1, 3, 2]\n",
    "k       = 1.2  # exponent parameter for exponential decay of word length augmedented SequenceMatcher\n",
    "ap      = 0.55  # exponent parameter\n",
    "bp      = 1  # exponent parameter\n",
    "log_exp      = 5  # exponent parameter for logarithmic mapping\n",
    "prob_exp     = 1  # raise probability to power in ((prob**power)*log-sim)\n",
    "consider_top = 100  # max top model word predictions considered\n",
    "relevency_t  = 0.07  # threshold defined by portion of top proposition to exclude much smaller scored propositions for correcting\n",
    "base_t       = 0.0015   # decision threshold for last word: base threshold\n",
    "threshold_e  = 1.8  # exponent for exponential thresholds\n",
    "threshold_t  = \"exponential\"  # function defines decision threshold for word n from end\n",
    "\n",
    "batch_size = 100\n",
    "batch_i = np.random.choice(super_batch.shape[0], batch_size, replace=False)\n",
    "batch = super_batch[batch_i,:]\n",
    "\n",
    "corrections = []\n",
    "times = []\n",
    "for i, (pprobs, (x, _)) in enumerate(zip([probs[i] for i in batch_i], batch)): \n",
    "    t0 = time()\n",
    "    corrections.append(process_correction(x, back_n, pprobs))\n",
    "    times.append(time()-t0)\n",
    "    print(f'({i+1}/{len(batch)}): {times[-1]:.3f} ', end='')\n",
    "print(f'\\naverage: {np.mean(times):.3f} seconds')"
   ]
  },
  {
   "cell_type": "code",
   "execution_count": 8,
   "id": "ff2e4912-7822-48a2-b9e8-7a7ec155243c",
   "metadata": {},
   "outputs": [
    {
     "data": {
      "text/plain": [
       "'TP=30, TTP=30, TN=50, FN=20, FP=0, FTP=0'"
      ]
     },
     "execution_count": 8,
     "metadata": {},
     "output_type": "execute_result"
    }
   ],
   "source": [
    "y_h = np.array(corrections == batch[:,1])\n",
    "same = batch[:,0] == batch[:,1]\n",
    "not_corrected = np.array(corrections) == \"False\"\n",
    "tn  = np.logical_and(same, not_corrected)\n",
    "fn  = np.logical_and(np.logical_not(same), not_corrected)\n",
    "fp  = np.logical_and(same, np.logical_not(not_corrected))\n",
    "tp = np.logical_and(np.logical_not(same), np.logical_not(not_corrected))\n",
    "ttp  = np.logical_and(tp, y_h)\n",
    "TN = tn.sum(); FN = fn.sum(); FP = fp.sum(); TP = tp.sum(); TTP = ttp.sum(); TP = tp.sum(); FTP = TP-TTP\n",
    "# [Total] True Positives, True True Positives, True Negatives, False Negatives, False Positives, False True Positives\n",
    "f'TP={TP}, TTP={TTP}, TN={TN}, FN={FN}, FP={FP}, FTP={FTP}'"
   ]
  },
  {
   "cell_type": "code",
   "execution_count": 9,
   "id": "5ccfddb6-7c44-4bc5-a35d-96d576e32c00",
   "metadata": {},
   "outputs": [
    {
     "data": {
      "text/plain": [
       "'precision=1.000, recall=0.600, false positive rate=0.000, specificity=1.000, accuracy=0.800, f1=0.750'"
      ]
     },
     "execution_count": 9,
     "metadata": {},
     "output_type": "execute_result"
    }
   ],
   "source": [
    "precision = TTP/(TP+FP)\n",
    "recall    = TP/(TP+FN)\n",
    "fpr       = FP/same.sum()\n",
    "specificity = TN/(TN+FP+FTP)\n",
    "accuracy    = (TTP+TN)/(TP+TN+FP+FN)\n",
    "f1          = (2*precision*recall)/(precision+recall)\n",
    "f'precision={precision:.3f}, recall={recall:.3f}, false positive rate={fpr:.3f}, specificity={specificity:.3f}, accuracy={accuracy:.3f}, f1={f1:.3f}'#, f'k={k}, a={ap}, b={bp}, log_exp={log_exp}, prob_exp={prob_exp}, relevency_t={relevency_t}, base_t={base_t}, threshold_e={threshold_e}'"
   ]
  },
  {
   "cell_type": "code",
   "execution_count": 10,
   "id": "8204082a-8b04-48b7-9db1-22ca01aca7b4",
   "metadata": {
    "scrolled": true
   },
   "outputs": [],
   "source": [
    "corrections = []\n",
    "for x, _ in batch: \n",
    "    corrections.append(blob_correct(x))"
   ]
  },
  {
   "cell_type": "code",
   "execution_count": 11,
   "id": "c54da7d9-1c9c-4948-b65c-acc339775564",
   "metadata": {},
   "outputs": [
    {
     "data": {
      "text/plain": [
       "'TP=27, TTP=2, TN=40, FN=23, FP=10, FTP=25'"
      ]
     },
     "execution_count": 11,
     "metadata": {},
     "output_type": "execute_result"
    }
   ],
   "source": [
    "y_h = np.array(corrections == batch[:,1])\n",
    "same = batch[:,0] == batch[:,1]\n",
    "not_corrected = np.array(corrections) == batch[:,0]\n",
    "tn  = np.logical_and(same, not_corrected)\n",
    "fn  = np.logical_and(np.logical_not(same), not_corrected)\n",
    "fp  = np.logical_and(same, np.logical_not(not_corrected))\n",
    "tp = np.logical_and(np.logical_not(same), np.logical_not(not_corrected))\n",
    "ttp  = np.logical_and(tp, y_h)\n",
    "TN = tn.sum(); FN = fn.sum(); FP = fp.sum(); TP = tp.sum(); TTP = ttp.sum(); TP = tp.sum(); FTP = TP-TTP\n",
    "# [Total] True Positives, True True Positives, True Negatives, False Negatives, False Positives, False True Positives\n",
    "f'TP={TP}, TTP={TTP}, TN={TN}, FN={FN}, FP={FP}, FTP={FTP}'"
   ]
  },
  {
   "cell_type": "code",
   "execution_count": 12,
   "id": "3f8fe71c-f17a-4f97-9bbb-992ff64141da",
   "metadata": {},
   "outputs": [
    {
     "data": {
      "text/plain": [
       "'precision=0.054, recall=0.540, false positive rate=0.200, specificity=0.533, accuracy=0.420, f1=0.098'"
      ]
     },
     "execution_count": 12,
     "metadata": {},
     "output_type": "execute_result"
    }
   ],
   "source": [
    "precision = TTP/(TP+FP)\n",
    "recall    = TP/(TP+FN)\n",
    "fpr       = FP/same.sum()\n",
    "specificity = TN/(TN+FP+FTP)\n",
    "accuracy    = (TTP+TN)/(TP+TN+FP+FN)\n",
    "f1          = (2*precision*recall)/(precision+recall)\n",
    "f'precision={precision:.3f}, recall={recall:.3f}, false positive rate={fpr:.3f}, specificity={specificity:.3f}, accuracy={accuracy:.3f}, f1={f1:.3f}'#, f'k={k}, a={ap}, b={bp}, log_exp={log_exp}, prob_exp={prob_exp}, relevency_t={relevency_t}, base_t={base_t}, threshold_e={threshold_e}'"
   ]
  }
 ],
 "metadata": {
  "kernelspec": {
   "display_name": "Python 3 (ipykernel)",
   "language": "python",
   "name": "python3"
  },
  "language_info": {
   "codemirror_mode": {
    "name": "ipython",
    "version": 3
   },
   "file_extension": ".py",
   "mimetype": "text/x-python",
   "name": "python",
   "nbconvert_exporter": "python",
   "pygments_lexer": "ipython3",
   "version": "3.11.10"
  }
 },
 "nbformat": 4,
 "nbformat_minor": 5
}
